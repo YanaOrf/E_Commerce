{
 "cells": [
  {
   "cell_type": "code",
   "execution_count": 41,
   "metadata": {},
   "outputs": [],
   "source": [
    "import pandas as pd\n",
    "import sqlite3 as sq\n",
    "import numpy as np"
   ]
  },
  {
   "cell_type": "code",
   "execution_count": 52,
   "metadata": {},
   "outputs": [],
   "source": [
    "online_store=pd.read_csv(\"/Users/Yanaorfin_1/Documents/Academy/E_Commerce/Sample-Superstore2.csv\", delimiter=\";\")\n",
    "orders=pd.read_csv(\"/Users/Yanaorfin_1/Documents/Academy/E_Commerce/Sample-Superstore2/Order-Order.csv\", delimiter=\";\")\n",
    "customers=pd.read_csv(\"/Users/Yanaorfin_1/Documents/Academy/E_Commerce/Sample-Superstore2/Customer-Customer.csv\",delimiter=\";\")\n",
    "products=pd.read_csv(\"/Users/Yanaorfin_1/Documents/Academy/E_Commerce/Sample-Superstore2/Product-Table 1.csv\",delimiter=\";\")\n",
    "sales=pd.read_csv(\"/Users/Yanaorfin_1/Documents/Academy/E_Commerce/Sample-Superstore2/Sales-Sales.csv\",delimiter=\";\")\n",
    "shipment=pd.read_csv(\"/Users/Yanaorfin_1/Documents/Academy/E_Commerce/Sample-Superstore2/Shipment-Shipment.csv\",delimiter=\";\")"
   ]
  },
  {
   "cell_type": "markdown",
   "metadata": {},
   "source": [
    "FULL TABLE FOR EDA "
   ]
  },
  {
   "cell_type": "code",
   "execution_count": 64,
   "metadata": {},
   "outputs": [],
   "source": [
    "#Additional DataFrame with correct product_id\n",
    "products2=products.iloc[:,[0,3,4]]"
   ]
  },
  {
   "cell_type": "code",
   "execution_count": 74,
   "metadata": {},
   "outputs": [],
   "source": [
    "online_store.drop(labels=\"Row ID\",axis=1,inplace=True)"
   ]
  },
  {
   "cell_type": "code",
   "execution_count": 70,
   "metadata": {},
   "outputs": [],
   "source": [
    "online_store.rename(columns={\"Order ID\":\"Order_ID\",\"Order Date\":\"Order_Date\",\"Ship Date\":\"Ship_Date\",\"Ship Mode\":\"Ship_Mode\",\"Customer ID\":\"Customer_ID\",\"Customer Name\":\"Customer_Name\",\"Postal Code\":\"Postal_Code\",\"Product ID\":\"Product_ID\",\"Sub-Category\":\"Sub_Category\",\"Product Name\":\"Product_Name\"},inplace=True)"
   ]
  },
  {
   "cell_type": "code",
   "execution_count": 72,
   "metadata": {},
   "outputs": [],
   "source": [
    "online_store=pd.merge(online_store,products2,how=\"left\",on=[\"Product_ID\",\"Product_Name\"])"
   ]
  },
  {
   "cell_type": "code",
   "execution_count": null,
   "metadata": {},
   "outputs": [],
   "source": [
    "online_store.drop(labels=\"Product_ID\",axis=1,inplace=True)\n"
   ]
  },
  {
   "cell_type": "markdown",
   "metadata": {},
   "source": [
    "REPLACING WRONG Product_ID"
   ]
  },
  {
   "cell_type": "code",
   "execution_count": 60,
   "metadata": {},
   "outputs": [],
   "source": [
    "sales=pd.merge(sales,products,how=\"left\",on=[\"Product_ID\",\"Product_Name\"])"
   ]
  },
  {
   "cell_type": "code",
   "execution_count": 47,
   "metadata": {},
   "outputs": [],
   "source": [
    "sales.drop(labels=[\"Product_ID\",'Sub_Category','Category','Product_Name'],axis=1,inplace=True)\n",
    "products.drop(labels=[\"Product_ID\"],axis=1,inplace=True)\n"
   ]
  },
  {
   "cell_type": "code",
   "execution_count": 48,
   "metadata": {},
   "outputs": [],
   "source": [
    "\n",
    "sales.rename(columns={\"Product_ID_NEW\":\"Product_ID\"},inplace=True)\n",
    "products.rename(columns={\"Product_ID_NEW\":\"Product_ID\"},inplace=True)"
   ]
  },
  {
   "cell_type": "code",
   "execution_count": 49,
   "metadata": {},
   "outputs": [],
   "source": [
    "orders = orders.assign(id=range(1,1+len(orders)))"
   ]
  },
  {
   "cell_type": "code",
   "execution_count": 50,
   "metadata": {},
   "outputs": [],
   "source": [
    "sales=sales.iloc[:,[0,1,6,2,3,4,5]]\n",
    "products=products.iloc[:,[3,0,1,2]]"
   ]
  }
 ],
 "metadata": {
  "kernelspec": {
   "display_name": "Python 3.9.13 ('base')",
   "language": "python",
   "name": "python3"
  },
  "language_info": {
   "codemirror_mode": {
    "name": "ipython",
    "version": 3
   },
   "file_extension": ".py",
   "mimetype": "text/x-python",
   "name": "python",
   "nbconvert_exporter": "python",
   "pygments_lexer": "ipython3",
   "version": "3.9.13"
  },
  "orig_nbformat": 4,
  "vscode": {
   "interpreter": {
    "hash": "57bc5005a1ad0d7f34527b41ef0b29988d5343d619860cd395788fc5b3aed7a4"
   }
  }
 },
 "nbformat": 4,
 "nbformat_minor": 2
}
