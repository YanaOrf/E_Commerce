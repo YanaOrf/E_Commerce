{
 "cells": [
  {
   "cell_type": "code",
   "execution_count": 41,
   "metadata": {},
   "outputs": [],
   "source": [
    "import pandas as pd\n",
    "import sqlite3 as sq\n",
    "import numpy as np"
   ]
  },
  {
   "cell_type": "code",
   "execution_count": 52,
   "metadata": {},
   "outputs": [],
   "source": [
    "online_store=pd.read_csv(\"/Users/Yanaorfin_1/Documents/Academy/E_Commerce/Sample-Superstore2.csv\", delimiter=\";\")\n",
    "orders=pd.read_csv(\"/Users/Yanaorfin_1/Documents/Academy/E_Commerce/Sample-Superstore2/Order-Order.csv\", delimiter=\";\")\n",
    "customers=pd.read_csv(\"/Users/Yanaorfin_1/Documents/Academy/E_Commerce/Sample-Superstore2/Customer-Customer.csv\",delimiter=\";\")\n",
    "products=pd.read_csv(\"/Users/Yanaorfin_1/Documents/Academy/E_Commerce/Sample-Superstore2/Product-Table 1.csv\",delimiter=\";\")\n",
    "sales=pd.read_csv(\"/Users/Yanaorfin_1/Documents/Academy/E_Commerce/Sample-Superstore2/Sales-Sales.csv\",delimiter=\";\")\n",
    "shipment=pd.read_csv(\"/Users/Yanaorfin_1/Documents/Academy/E_Commerce/Sample-Superstore2/Shipment-Shipment.csv\",delimiter=\";\")"
   ]
  },
  {
   "cell_type": "markdown",
   "metadata": {},
   "source": [
    "FULL TABLE FOR EDA "
   ]
  },
  {
   "cell_type": "code",
   "execution_count": 64,
   "metadata": {},
   "outputs": [],
   "source": [
    "#Additional DataFrame with correct product_id\n",
    "products2=products.iloc[:,[0,3,4]]"
   ]
  },
  {
   "cell_type": "code",
   "execution_count": 74,
   "metadata": {},
   "outputs": [],
   "source": [
    "online_store.drop(labels=\"Row ID\",axis=1,inplace=True)"
   ]
  },
  {
   "cell_type": "code",
   "execution_count": 70,
   "metadata": {},
   "outputs": [],
   "source": [
    "online_store.rename(columns={\"Order ID\":\"Order_ID\",\"Order Date\":\"Order_Date\",\"Ship Date\":\"Ship_Date\",\"Ship Mode\":\"Ship_Mode\",\"Customer ID\":\"Customer_ID\",\"Customer Name\":\"Customer_Name\",\"Postal Code\":\"Postal_Code\",\"Product ID\":\"Product_ID\",\"Sub-Category\":\"Sub_Category\",\"Product Name\":\"Product_Name\"},inplace=True)"
   ]
  },
  {
   "cell_type": "code",
   "execution_count": 72,
   "metadata": {},
   "outputs": [],
   "source": [
    "online_store=pd.merge(online_store,products2,how=\"left\",on=[\"Product_ID\",\"Product_Name\"])"
   ]
  },
  {
   "cell_type": "code",
   "execution_count": null,
   "metadata": {},
   "outputs": [],
   "source": [
    "online_store.drop(labels=\"Product_ID\",axis=1,inplace=True)\n"
   ]
  },
  {
   "cell_type": "markdown",
   "metadata": {},
   "source": [
    "REPLACING WRONG Product_ID"
   ]
  },
  {
   "cell_type": "code",
   "execution_count": 60,
   "metadata": {},
   "outputs": [],
   "source": [
    "sales=pd.merge(sales,products,how=\"left\",on=[\"Product_ID\",\"Product_Name\"])"
   ]
  },
  {
   "cell_type": "code",
   "execution_count": 47,
   "metadata": {},
   "outputs": [],
   "source": [
    "sales.drop(labels=[\"Product_ID\",'Sub_Category','Category','Product_Name'],axis=1,inplace=True)\n",
    "products.drop(labels=[\"Product_ID\"],axis=1,inplace=True)\n"
   ]
  },
  {
   "cell_type": "code",
   "execution_count": 48,
   "metadata": {},
   "outputs": [],
   "source": [
    "\n",
    "sales.rename(columns={\"Product_ID_NEW\":\"Product_ID\"},inplace=True)\n",
    "products.rename(columns={\"Product_ID_NEW\":\"Product_ID\"},inplace=True)"
   ]
  },
  {
   "cell_type": "code",
   "execution_count": 49,
   "metadata": {},
   "outputs": [],
   "source": [
    "orders = orders.assign(id=range(1,1+len(orders)))"
   ]
  },
  {
   "cell_type": "code",
   "execution_count": 50,
   "metadata": {},
   "outputs": [],
   "source": [
    "sales=sales.iloc[:,[0,1,6,2,3,4,5]]\n",
    "products=products.iloc[:,[3,0,1,2]]"
   ]
  },
  {
   "cell_type": "code",
   "execution_count": 51,
   "metadata": {},
   "outputs": [
    {
     "data": {
      "text/html": [
       "<div>\n",
       "<style scoped>\n",
       "    .dataframe tbody tr th:only-of-type {\n",
       "        vertical-align: middle;\n",
       "    }\n",
       "\n",
       "    .dataframe tbody tr th {\n",
       "        vertical-align: top;\n",
       "    }\n",
       "\n",
       "    .dataframe thead th {\n",
       "        text-align: right;\n",
       "    }\n",
       "</style>\n",
       "<table border=\"1\" class=\"dataframe\">\n",
       "  <thead>\n",
       "    <tr style=\"text-align: right;\">\n",
       "      <th></th>\n",
       "      <th>Sales_ID</th>\n",
       "      <th>Order_ID</th>\n",
       "      <th>Product_ID</th>\n",
       "      <th>Sales</th>\n",
       "      <th>Discount</th>\n",
       "      <th>Profit</th>\n",
       "      <th>Quantity</th>\n",
       "    </tr>\n",
       "  </thead>\n",
       "  <tbody>\n",
       "    <tr>\n",
       "      <th>0</th>\n",
       "      <td>1</td>\n",
       "      <td>CA-2016-152156</td>\n",
       "      <td>FUR-BO-10001798</td>\n",
       "      <td>261.9600</td>\n",
       "      <td>0.00</td>\n",
       "      <td>41.9136</td>\n",
       "      <td>2</td>\n",
       "    </tr>\n",
       "    <tr>\n",
       "      <th>1</th>\n",
       "      <td>2</td>\n",
       "      <td>CA-2016-152156</td>\n",
       "      <td>FUR-CH-10000454</td>\n",
       "      <td>731.9400</td>\n",
       "      <td>0.00</td>\n",
       "      <td>219.5820</td>\n",
       "      <td>3</td>\n",
       "    </tr>\n",
       "    <tr>\n",
       "      <th>2</th>\n",
       "      <td>3</td>\n",
       "      <td>CA-2016-138688</td>\n",
       "      <td>OFF-LA-10000240</td>\n",
       "      <td>14.6200</td>\n",
       "      <td>0.00</td>\n",
       "      <td>6.8714</td>\n",
       "      <td>2</td>\n",
       "    </tr>\n",
       "    <tr>\n",
       "      <th>3</th>\n",
       "      <td>4</td>\n",
       "      <td>US-2015-108966</td>\n",
       "      <td>FUR-TA-10000577</td>\n",
       "      <td>957.5775</td>\n",
       "      <td>0.45</td>\n",
       "      <td>-383.0310</td>\n",
       "      <td>5</td>\n",
       "    </tr>\n",
       "    <tr>\n",
       "      <th>4</th>\n",
       "      <td>5</td>\n",
       "      <td>US-2015-108966</td>\n",
       "      <td>OFF-ST-10000760</td>\n",
       "      <td>22.3680</td>\n",
       "      <td>0.20</td>\n",
       "      <td>2.5164</td>\n",
       "      <td>2</td>\n",
       "    </tr>\n",
       "  </tbody>\n",
       "</table>\n",
       "</div>"
      ],
      "text/plain": [
       "   Sales_ID        Order_ID       Product_ID     Sales  Discount    Profit  \\\n",
       "0         1  CA-2016-152156  FUR-BO-10001798  261.9600      0.00   41.9136   \n",
       "1         2  CA-2016-152156  FUR-CH-10000454  731.9400      0.00  219.5820   \n",
       "2         3  CA-2016-138688  OFF-LA-10000240   14.6200      0.00    6.8714   \n",
       "3         4  US-2015-108966  FUR-TA-10000577  957.5775      0.45 -383.0310   \n",
       "4         5  US-2015-108966  OFF-ST-10000760   22.3680      0.20    2.5164   \n",
       "\n",
       "   Quantity  \n",
       "0         2  \n",
       "1         3  \n",
       "2         2  \n",
       "3         5  \n",
       "4         2  "
      ]
     },
     "execution_count": 51,
     "metadata": {},
     "output_type": "execute_result"
    }
   ],
   "source": [
    "sales.head(5)"
   ]
  },
  {
   "cell_type": "code",
   "execution_count": null,
   "metadata": {},
   "outputs": [],
   "source": [
    "#orders.to_csv('/Users/Yanaorfin/Documents/Academy/E-Commerce/Order-Order fixed.csv',index=False)"
   ]
  },
  {
   "cell_type": "markdown",
   "metadata": {},
   "source": [
    "CREATING DATA BASE"
   ]
  },
  {
   "cell_type": "code",
   "execution_count": null,
   "metadata": {},
   "outputs": [],
   "source": [
    "db_conn = sq.connect(\"/Users/Yanaorfin/Documents/Academy/E_Commerce/onlinestore.db\")"
   ]
  },
  {
   "cell_type": "code",
   "execution_count": null,
   "metadata": {},
   "outputs": [],
   "source": [
    "# creating cursor object\n",
    "cursor=db_conn.cursor()"
   ]
  },
  {
   "cell_type": "code",
   "execution_count": null,
   "metadata": {},
   "outputs": [],
   "source": [
    "orders.head(1)"
   ]
  },
  {
   "cell_type": "code",
   "execution_count": null,
   "metadata": {},
   "outputs": [],
   "source": [
    "# CUSTOMERS \n",
    "\n",
    "cursor.execute(\n",
    "    \"\"\"\n",
    "    CREATE TABLE customers (\n",
    "        Customer_ID VARCHAR (60) NOT NULL PRIMARY KEY, \n",
    "        Customer_Name VARCHAR (100) NOT NULL,\n",
    "        Segment VARCHAR (100)\n",
    "    );\n",
    "    \"\"\"\n",
    ")\n",
    "\n"
   ]
  },
  {
   "cell_type": "code",
   "execution_count": null,
   "metadata": {},
   "outputs": [],
   "source": [
    "# PRODUCTS \n",
    "\n",
    "cursor.execute(\n",
    "    \"\"\"\n",
    "    CREATE TABLE products (\n",
    "        Product_id VARCHAR (60) NOT NULL PRIMARY KEY,\n",
    "        Category VARCHAR (100),\n",
    "        Sub_Category VARCHAR (100),\n",
    "        Product_Name VARCHAR (200)\n",
    "    );\n",
    "    \"\"\"\n",
    ")\n",
    "\n",
    "# ORDERS \n",
    "cursor.execute(\n",
    "    \"\"\"\n",
    "    CREATE TABLE orders (\n",
    "        Order_Id VARCHAR (60) PRIMARY KEY NOT NULL,\n",
    "        Order_Date VARCHAR (20) NOT NULL,\n",
    "        Customer_ID VARCHAR (60),\n",
    "        FOREIGN KEY (Customer_ID) REFERENCES customers (Customer_ID)\n",
    "    );\n",
    "    \"\"\" \n",
    ")\n",
    "\n",
    "#SHIPMENT\n",
    "\n",
    "cursor.execute(\n",
    "    \"\"\"\n",
    "    CREATE TABLE shipment (\n",
    "        Shipment_id INTEGER PRIMARY KEY NOT NULL,\n",
    "        Order_Id VARCHAR (60) NOT NULL,\n",
    "        Ship_Date VARCHAR (20) NOT NULL, \n",
    "        Ship_Mode VARCHAR (60),\n",
    "        Country VARCHAR (60),\n",
    "        City VARCHAR (60),\n",
    "        State VARCHAR (60),\n",
    "        Postal_Code VARCHAR (60),\n",
    "        Region VARCHAR (60),\n",
    "        FOREIGN KEY (Order_Id) REFERENCES orders (Order_Id) \n",
    "    );\n",
    "    \"\"\"\n",
    ")\n",
    "\n",
    "# SALES \n",
    "\n",
    "cursor.execute(\n",
    "    \"\"\"\n",
    "    CREATE TABLE sales (\n",
    "        Sales_Id INTEGER PRIMARY KEY NOT NULL,\n",
    "        Order_Id VARCHAR (60) NOT NULL,\n",
    "        Product_ID VARCHAR (60),\n",
    "        Sales REAL,\n",
    "        Discount REAL,\n",
    "        Profit REAL,\n",
    "        Quantity INTEGER,\n",
    "        FOREIGN KEY (Order_Id) REFERENCES orders (Order_Id),\n",
    "        FOREIGN KEY (Product_ID) REFERENCES products (Product_ID)\n",
    "\n",
    ");\n",
    "\"\"\"\n",
    ") "
   ]
  },
  {
   "cell_type": "code",
   "execution_count": null,
   "metadata": {},
   "outputs": [],
   "source": [
    "\n",
    "sales.to_sql('sales', db_conn, if_exists='append', index=False)\n",
    "orders.to_sql('orders', db_conn, if_exists='append', index=False)\n",
    "customers.to_sql('customers', db_conn, if_exists='append', index=False)\n"
   ]
  },
  {
   "cell_type": "code",
   "execution_count": null,
   "metadata": {},
   "outputs": [],
   "source": [
    "products.to_sql('products', db_conn, if_exists='append', index=False)\n",
    "shipment.to_sql('shipment',db_conn, if_exists='append', index=False)"
   ]
  }
 ],
 "metadata": {
  "kernelspec": {
   "display_name": "Python 3.9.13 ('base')",
   "language": "python",
   "name": "python3"
  },
  "language_info": {
   "codemirror_mode": {
    "name": "ipython",
    "version": 3
   },
   "file_extension": ".py",
   "mimetype": "text/x-python",
   "name": "python",
   "nbconvert_exporter": "python",
   "pygments_lexer": "ipython3",
   "version": "3.9.13"
  },
  "orig_nbformat": 4,
  "vscode": {
   "interpreter": {
    "hash": "57bc5005a1ad0d7f34527b41ef0b29988d5343d619860cd395788fc5b3aed7a4"
   }
  }
 },
 "nbformat": 4,
 "nbformat_minor": 2
}
