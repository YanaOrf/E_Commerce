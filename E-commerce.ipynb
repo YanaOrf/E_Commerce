{
 "cells": [
  {
   "cell_type": "code",
   "execution_count": 19,
   "metadata": {},
   "outputs": [],
   "source": [
    "import pandas as pd\n",
    "import sqlite3 as sq\n",
    "import numpy as np"
   ]
  },
  {
   "cell_type": "code",
   "execution_count": 45,
   "metadata": {},
   "outputs": [],
   "source": [
    "online_store=pd.read_csv(\"/Users/Yanaorfin_1/Documents/Academy/E_Commerce/Sample-Superstore2.csv\", delimiter=\";\")\n",
    "orders=pd.read_csv(\"/Users/Yanaorfin_1/Documents/Academy/E_Commerce/Sample-Superstore2/Order-Order.csv\", delimiter=\";\")\n",
    "customers=pd.read_csv(\"/Users/Yanaorfin_1/Documents/Academy/E_Commerce/Sample-Superstore2/Customer-Customer.csv\",delimiter=\";\")\n",
    "products=pd.read_csv(\"/Users/Yanaorfin_1/Documents/Academy/E_Commerce/Sample-Superstore2/Product-Table 1.csv\",delimiter=\";\")\n",
    "sales=pd.read_csv(\"/Users/Yanaorfin_1/Documents/Academy/E_Commerce/Sample-Superstore2/Sales-Sales.csv\",delimiter=\";\")\n",
    "shipment=pd.read_csv(\"/Users/Yanaorfin_1/Documents/Academy/E_Commerce/Sample-Superstore2/Shipment-Shipment.csv\",delimiter=\";\")"
   ]
  },
  {
   "cell_type": "markdown",
   "metadata": {},
   "source": [
    "FULL TABLE FOR EDA "
   ]
  },
  {
   "cell_type": "code",
   "execution_count": 46,
   "metadata": {},
   "outputs": [],
   "source": [
    "online_store.drop(labels=\"Row ID\",axis=1,inplace=True)"
   ]
  },
  {
   "cell_type": "code",
   "execution_count": 47,
   "metadata": {},
   "outputs": [],
   "source": [
    "online_store.rename(columns={\"Order ID\":\"Order_ID\",\"Order Date\":\"Order_Date\",\"Ship Date\":\"Ship_Date\",\"Ship Mode\":\"Ship_Mode\",\"Customer ID\":\"Customer_ID\",\"Customer Name\":\"Customer_Name\",\"Postal Code\":\"Postal_Code\",\"Product ID\":\"Product_ID\",\"Sub-Category\":\"Sub_Category\",\"Product Name\":\"Product_Name\"},inplace=True)"
   ]
  },
  {
   "cell_type": "code",
   "execution_count": 48,
   "metadata": {},
   "outputs": [],
   "source": [
    "online_store=pd.merge(online_store,products2,how=\"left\",on=[\"Product_ID\",\"Product_Name\"])"
   ]
  },
  {
   "cell_type": "code",
   "execution_count": 49,
   "metadata": {},
   "outputs": [],
   "source": [
    "online_store.drop(labels=\"Product_ID\",axis=1,inplace=True)\n"
   ]
  },
  {
   "cell_type": "markdown",
   "metadata": {},
   "source": [
    "REPLACING WRONG Product_ID"
   ]
  },
  {
   "cell_type": "code",
   "execution_count": 50,
   "metadata": {},
   "outputs": [],
   "source": [
    "sales=pd.merge(sales,products,how=\"left\",on=[\"Product_ID\",\"Product_Name\"])"
   ]
  },
  {
   "cell_type": "code",
   "execution_count": 51,
   "metadata": {},
   "outputs": [],
   "source": [
    "sales.drop(labels=[\"Product_ID\",'Sub_Category','Category','Product_Name'],axis=1,inplace=True)\n",
    "products.drop(labels=[\"Product_ID\"],axis=1,inplace=True)\n"
   ]
  },
  {
   "cell_type": "code",
   "execution_count": 52,
   "metadata": {},
   "outputs": [],
   "source": [
    "\n",
    "sales.rename(columns={\"Product_ID_NEW\":\"Product_ID\"},inplace=True)\n",
    "products.rename(columns={\"Product_ID_NEW\":\"Product_ID\"},inplace=True)"
   ]
  },
  {
   "cell_type": "code",
   "execution_count": 29,
   "metadata": {},
   "outputs": [],
   "source": [
    "#orders = orders.assign(id=range(1,1+len(orders)))"
   ]
  },
  {
   "cell_type": "code",
   "execution_count": 53,
   "metadata": {},
   "outputs": [],
   "source": [
    "sales=sales.iloc[:,[0,1,6,2,3,4,5]]\n",
    "products=products.iloc[:,[3,0,1,2]]"
   ]
  },
  {
   "cell_type": "code",
   "execution_count": 32,
   "metadata": {},
   "outputs": [],
   "source": [
    "#orders.to_csv('/Users/Yanaorfin/Documents/Academy/E-Commerce/Order-Order fixed.csv',index=False)"
   ]
  },
  {
   "cell_type": "markdown",
   "metadata": {},
   "source": [
    "CREATING DATA BASE"
   ]
  },
  {
   "cell_type": "code",
   "execution_count": 33,
   "metadata": {},
   "outputs": [],
   "source": [
    "db_conn = sq.connect(\"/Users/Yanaorfin_1/Documents/Academy/E_Commerce/onlinestore3.db\")"
   ]
  },
  {
   "cell_type": "code",
   "execution_count": 34,
   "metadata": {},
   "outputs": [],
   "source": [
    "# creating cursor object\n",
    "cursor=db_conn.cursor()"
   ]
  },
  {
   "cell_type": "code",
   "execution_count": 36,
   "metadata": {},
   "outputs": [
    {
     "data": {
      "text/plain": [
       "<sqlite3.Cursor at 0x7f98709673b0>"
      ]
     },
     "execution_count": 36,
     "metadata": {},
     "output_type": "execute_result"
    }
   ],
   "source": [
    "# CUSTOMERS \n",
    "\n",
    "cursor.execute(\n",
    "    \"\"\"\n",
    "    CREATE TABLE customers (\n",
    "        Customer_ID VARCHAR (60) NOT NULL PRIMARY KEY, \n",
    "        Customer_Name VARCHAR (100) NOT NULL,\n",
    "        Segment VARCHAR (100)\n",
    "    );\n",
    "    \"\"\"\n",
    ")\n",
    "\n"
   ]
  },
  {
   "cell_type": "code",
   "execution_count": 37,
   "metadata": {},
   "outputs": [
    {
     "data": {
      "text/plain": [
       "<sqlite3.Cursor at 0x7f98709673b0>"
      ]
     },
     "execution_count": 37,
     "metadata": {},
     "output_type": "execute_result"
    }
   ],
   "source": [
    "# PRODUCTS \n",
    "\n",
    "cursor.execute(\n",
    "    \"\"\"\n",
    "    CREATE TABLE products (\n",
    "        Product_id VARCHAR (60) NOT NULL PRIMARY KEY,\n",
    "        Category VARCHAR (100)VARCHAR (100)VARCHAR (100),\n",
    "        Sub_Category VARCHAR (100),\n",
    "        Product_Name VARCHAR (200)\n",
    "    );\n",
    "    \"\"\"\n",
    ")\n",
    "\n",
    "# ORDERS \n",
    "cursor.execute(\n",
    "    \"\"\"\n",
    "    CREATE TABLE orders (\n",
    "        Order_Id VARCHAR (60) PRIMARY KEY NOT NULL,\n",
    "        Order_Date VARCHAR (20) NOT NULL,\n",
    "        Customer_ID VARCHAR (60),\n",
    "        FOREIGN KEY (Customer_ID) REFERENCES customers (Customer_ID)\n",
    "    );\n",
    "    \"\"\" \n",
    ")\n",
    "\n",
    "#SHIPMENT\n",
    "\n",
    "cursor.execute(\n",
    "    \"\"\"\n",
    "    CREATE TABLE shipment (\n",
    "        Shipment_id INTEGER PRIMARY KEY NOT NULL,\n",
    "        Order_Id VARCHAR (60) NOT NULL,\n",
    "        Ship_Date VARCHAR (20) NOT NULL, \n",
    "        Ship_Mode VARCHAR (60),\n",
    "        Country VARCHAR (60),\n",
    "        City VARCHAR (60),\n",
    "        State VARCHAR (60),\n",
    "        Postal_Code VARCHAR (60),\n",
    "        Region VARCHAR (60),\n",
    "        FOREIGN KEY (Order_Id) REFERENCES orders (Order_Id) \n",
    "    );\n",
    "    \"\"\"\n",
    ")\n",
    "\n",
    "# SALES \n",
    "\n",
    "cursor.execute(\n",
    "    \"\"\"\n",
    "    CREATE TABLE sales (\n",
    "        Sales_Id INTEGER PRIMARY KEY NOT NULL,\n",
    "        Order_Id VARCHAR (60) NOT NULL,\n",
    "        Product_ID VARCHAR (60),\n",
    "        Sales REAL,\n",
    "        Discount REAL,\n",
    "        Profit REAL,\n",
    "        Quantity INTEGER,\n",
    "        FOREIGN KEY (Order_Id) REFERENCES orders (Order_Id),\n",
    "        FOREIGN KEY (Product_ID) REFERENCES products (Product_ID)\n",
    "\n",
    ");\n",
    "\"\"\"\n",
    ") "
   ]
  },
  {
   "cell_type": "code",
   "execution_count": null,
   "metadata": {},
   "outputs": [],
   "source": [
    "\n",
    "sales.to_sql('sales', db_conn, if_exists='append', index=False)\n",
    "\n"
   ]
  },
  {
   "cell_type": "code",
   "execution_count": 42,
   "metadata": {},
   "outputs": [
    {
     "data": {
      "text/plain": [
       "793"
      ]
     },
     "execution_count": 42,
     "metadata": {},
     "output_type": "execute_result"
    }
   ],
   "source": [
    "customers.to_sql('customers', db_conn, if_exists='append', index=False)"
   ]
  },
  {
   "cell_type": "code",
   "execution_count": 56,
   "metadata": {},
   "outputs": [
    {
     "data": {
      "text/plain": [
       "5009"
      ]
     },
     "execution_count": 56,
     "metadata": {},
     "output_type": "execute_result"
    }
   ],
   "source": [
    "orders.to_sql('orders', db_conn, if_exists='append', index=False)"
   ]
  },
  {
   "cell_type": "code",
   "execution_count": 40,
   "metadata": {},
   "outputs": [
    {
     "data": {
      "text/plain": [
       "5009"
      ]
     },
     "execution_count": 40,
     "metadata": {},
     "output_type": "execute_result"
    }
   ],
   "source": [
    "products.to_sql('products', db_conn, if_exists='append', index=False)\n",
    "shipment.to_sql('shipment',db_conn, if_exists='append', index=False)"
   ]
  },
  {
   "cell_type": "code",
   "execution_count": 57,
   "metadata": {},
   "outputs": [],
   "source": [
    "db_conn.close()"
   ]
  }
 ],
 "metadata": {
  "kernelspec": {
   "display_name": "Python 3.9.13 ('base')",
   "language": "python",
   "name": "python3"
  },
  "language_info": {
   "codemirror_mode": {
    "name": "ipython",
    "version": 3
   },
   "file_extension": ".py",
   "mimetype": "text/x-python",
   "name": "python",
   "nbconvert_exporter": "python",
   "pygments_lexer": "ipython3",
   "version": "3.9.13"
  },
  "orig_nbformat": 4,
  "vscode": {
   "interpreter": {
    "hash": "57bc5005a1ad0d7f34527b41ef0b29988d5343d619860cd395788fc5b3aed7a4"
   }
  }
 },
 "nbformat": 4,
 "nbformat_minor": 2
}
